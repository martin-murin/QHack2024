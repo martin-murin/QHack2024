{
 "cells": [
  {
   "cell_type": "code",
   "execution_count": null,
   "id": "f824ae32-5aa8-4806-891b-8d759a24c338",
   "metadata": {
    "tags": []
   },
   "outputs": [],
   "source": [
    "import json\n",
    "import pennylane as qml\n",
    "import pennylane.numpy as np\n",
    "\n",
    "dev = qml.device(\"default.qubit\", wires = 5)\n",
    "\n",
    "@qml.qnode(dev)\n",
    "def circuit():\n",
    "    \"\"\"\n",
    "    Circuit in which you will prepare the Bell state with the allowed gates.\n",
    "    \"\"\"\n",
    "\n",
    "\n",
    "    # Put your code here #\n",
    "    qml.Hadamard(wires=[0])\n",
    "    qml.QFT(wires=[2,1,0])\n",
    "    qml.QFT(wires=[2,1,0])\n",
    "    qml.QFT(wires=[4,3,2])\n",
    "    qml.QFT(wires=[4,3,2])\n",
    "\n",
    "    return qml.probs(wires = range(5))\n",
    "\n",
    "# These functions are responsible for testing the solution\n",
    "def run(case: str) -> str:\n",
    "    return \"No output\"\n",
    "\n",
    "def check(have: str, want: str) -> None:\n",
    "    assert np.isclose(circuit()[0], 0.5), \"The state is not correct\"\n",
    "    assert np.isclose(circuit()[-1], 0.5), \"The state is not correct\"\n",
    "\n",
    "    for op in circuit.tape.operations:\n",
    "      assert (isinstance(op, qml.Hadamard) or isinstance(op, qml.T) or isinstance(op, qml.QFT)), f\"You can only use Hadamard, T and QFT operators. You are using {op.name}\"\n",
    "      if isinstance(op, qml.QFT):\n",
    "        assert len(op.wires) == 3, \"QFT must act on 3 wires\"\n",
    "\n",
    "\n",
    "# These are the public test cases\n",
    "test_cases = [\n",
    "    ('No input', 'No output')\n",
    "]\n",
    "\n",
    "# This will run the public test cases locally\n",
    "for i, (input_, expected_output) in enumerate(test_cases):\n",
    "    print(f\"Running test case {i} with input '{input_}'...\")\n",
    "\n",
    "    try:\n",
    "        output = run(input_)\n",
    "\n",
    "    except Exception as exc:\n",
    "        print(f\"Runtime Error. {exc}\")\n",
    "\n",
    "    else:\n",
    "        if message := check(output, expected_output):\n",
    "            print(f\"Wrong Answer. Have: '{output}'. Want: '{expected_output}'.\")\n",
    "\n",
    "        else:\n",
    "            print(\"Correct!\")"
   ]
  },
  {
   "cell_type": "markdown",
   "id": "88e80b19-b1ba-48d7-8615-e4bd56d8e760",
   "metadata": {},
   "source": [
    "## Circuit design:\n",
    "https://algassert.com/quirk#circuit={%22cols%22:[[%22H%22],[%22QFT3%22],[%22QFT3%22],[1,1,%22QFT3%22],[1,1,%22QFT3%22]]}\n",
    "## Useful article:\n",
    "https://www.nature.com/articles/s41598-021-01745-x"
   ]
  }
 ],
 "metadata": {
  "kernelspec": {
   "display_name": "Python 3 [Default]",
   "language": "python",
   "name": "python3"
  },
  "language_info": {
   "codemirror_mode": {
    "name": "ipython",
    "version": 3
   },
   "file_extension": ".py",
   "mimetype": "text/x-python",
   "name": "python",
   "nbconvert_exporter": "python",
   "pygments_lexer": "ipython3",
   "version": "3.11.7"
  }
 },
 "nbformat": 4,
 "nbformat_minor": 5
}
