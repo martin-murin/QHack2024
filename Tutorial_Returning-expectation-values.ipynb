{
 "cells": [
  {
   "cell_type": "code",
   "execution_count": 2,
   "id": "438b519e",
   "metadata": {
    "tags": []
   },
   "outputs": [],
   "source": [
    "import json\n",
    "import pennylane as qml\n",
    "import pennylane.numpy as np\n",
    "\n",
    "# Step 1: initialize a device\n",
    "dev = qml.device('default.qubit', wires=1)\n",
    "\n",
    "# Step 2: Add a decorator below\n",
    "@qml.qnode(dev)\n",
    "def simple_circuit(angle):\n",
    "\n",
    "    \"\"\"\n",
    "    In this function:\n",
    "        * Rotate the qubit around the y-axis by angle\n",
    "        * Measure the expectation value of the Pauli X observable\n",
    "\n",
    "    Args:\n",
    "        angle (float): how much to rotate a state around the y-axis\n",
    "\n",
    "    Returns:\n",
    "        Union[tensor, float]: The expectation value of the Pauli X observable\n",
    "    \"\"\"\n",
    "\n",
    "    # Step 3: Add gates to the QNode\n",
    "    qml.RY(angle, wires=0)\n",
    "    # Put your code here #\n",
    "\n",
    "    # Step 4: Return the required expectation value\n",
    "    return qml.expval(qml.PauliX(0))"
   ]
  },
  {
   "cell_type": "code",
   "execution_count": 3,
   "id": "b597398b",
   "metadata": {
    "tags": []
   },
   "outputs": [
    {
     "name": "stdout",
     "output_type": "stream",
     "text": [
      "Running test case 0 with input '1.23456'...\n",
      "Correct!\n",
      "Running test case 1 with input '2.957'...\n",
      "Correct!\n"
     ]
    }
   ],
   "source": [
    "### Test Support -collapse\n",
    "# These functions are responsible for testing the solution.\n",
    "def run(test_case_input: str) -> str:\n",
    "    angle = json.loads(test_case_input)\n",
    "    output = simple_circuit(angle).numpy()\n",
    "\n",
    "    return str(output)\n",
    "\n",
    "def check(solution_output: str, expected_output: str) -> None:\n",
    "    solution_output = json.loads(solution_output)\n",
    "    expected_output = json.loads(expected_output)\n",
    "    assert np.allclose(solution_output, expected_output, rtol=1e-4)\n",
    "    \n",
    "test_cases = [(\"1.23456\", \"0.9440031218347901\"), (\"2.957\", \"0.1835461227247332\")]\n",
    "for i, (input_, expected_output) in enumerate(test_cases):\n",
    "    print(f\"Running test case {i} with input '{input_}'...\")\n",
    "\n",
    "    try:\n",
    "        output = run(input_)\n",
    "\n",
    "    except Exception as exc:\n",
    "        print(f\"Runtime Error. {exc}\")\n",
    "\n",
    "    else:\n",
    "        if message := check(output, expected_output):\n",
    "            print(f\"Wrong Answer. Have: '{output}'. Want: '{expected_output}'.\")\n",
    "\n",
    "        else:\n",
    "            print(\"Correct!\")"
   ]
  },
  {
   "cell_type": "code",
   "execution_count": null,
   "id": "dcbfb5bd-c54c-46e2-ba95-076e0bf76c5a",
   "metadata": {},
   "outputs": [],
   "source": []
  }
 ],
 "metadata": {
  "kernelspec": {
   "display_name": "Python 3 [Default]",
   "language": "python",
   "name": "python3"
  },
  "language_info": {
   "codemirror_mode": {
    "name": "ipython",
    "version": 3
   },
   "file_extension": ".py",
   "mimetype": "text/x-python",
   "name": "python",
   "nbconvert_exporter": "python",
   "pygments_lexer": "ipython3",
   "version": "3.11.7"
  }
 },
 "nbformat": 4,
 "nbformat_minor": 5
}
