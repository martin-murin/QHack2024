{
 "cells": [
  {
   "cell_type": "code",
   "execution_count": 17,
   "id": "0a1a5a08",
   "metadata": {
    "tags": []
   },
   "outputs": [],
   "source": [
    "import json\n",
    "import pennylane as qml\n",
    "import pennylane.numpy as np\n",
    "\n",
    "def compute_hessian(num_wires, w):\n",
    "    \"\"\"\n",
    "    This function must create a circuit with num_wire qubits \n",
    "    as per the challenge statement and return the Hessian of such\n",
    "    circuit evaluated on w.\n",
    "\n",
    "    Args:\n",
    "        - num_wires = The number of wires in the circuit\n",
    "        - w (np.ndarray): A list of length num_wires + 2 containing float parameters. \n",
    "        The Hessian is evaluated at this point in parameter space.\n",
    "\n",
    "    Returns:\n",
    "        Union(tuple, np.ndarray): A matrix representing the Hessian calculated via \n",
    "        qml.gradients.parameter_shift_hessian\n",
    "    \"\"\"\n",
    "    \n",
    "    # Define your device and QNode\n",
    "    dev = qml.device('default.qubit', wires=num_wires)\n",
    "    @qml.qnode(dev)\n",
    "    def circuit(num_wires, w):\n",
    "        for i in range(num_wires):\n",
    "            qml.RX(w[i], wires=i)\n",
    "        for j in range(num_wires-1):\n",
    "            qml.CNOT(wires=[j,j+1])\n",
    "        qml.CNOT(wires=[num_wires-1,0])\n",
    "        qml.RY(w[-2], wires=1)\n",
    "        for j in range(num_wires-1):\n",
    "            qml.CNOT(wires=[j,j+1])\n",
    "        qml.CNOT(wires=[num_wires-1,0])\n",
    "        qml.RX(w[-1], wires=num_wires-1)\n",
    "        return qml.expval(qml.PauliZ(0)@qml.PauliZ(num_wires-1))\n",
    "    \n",
    "    # Return the Hessian using qml.gradient.param_shift_hessian\n",
    "    return qml.gradients.param_shift_hessian(circuit)(num_wires, w)"
   ]
  },
  {
   "cell_type": "code",
   "execution_count": 18,
   "id": "663581af",
   "metadata": {
    "tags": []
   },
   "outputs": [
    {
     "name": "stdout",
     "output_type": "stream",
     "text": [
      "Running test case 0 with input '[3,[0.1,0.2,0.1,0.2,0.7]]'...\n",
      "Correct!\n",
      "Running test case 1 with input '[2,[0.3, 1.1, 0.4, 1.3]]'...\n",
      "Correct!\n"
     ]
    }
   ],
   "source": [
    "### Test support\n",
    "# These functions are responsible for testing the solution.\n",
    "def run(test_case_input: str) -> str:\n",
    "    \n",
    "    ins = json.loads(test_case_input)\n",
    "    wires = ins[0]\n",
    "    weights = np.array(ins[1], requires_grad = True)\n",
    "    output = compute_hessian(wires, weights)\n",
    "    \n",
    "    if isinstance(output,(tuple)):\n",
    "        output = np.array(output).numpy().round(3)    \n",
    "        return str([elem.tolist() for elem in output])\n",
    "    \n",
    "    elif isinstance(output,(np.tensor)):\n",
    "        \n",
    "        return str(output.tolist())\n",
    "    \n",
    "def check(solution_output: str, expected_output: str) -> None:\n",
    "    solution_output = json.loads(solution_output)\n",
    "    expected_output = json.loads(expected_output)\n",
    "    \n",
    "    assert np.allclose(solution_output, expected_output, atol=1e-2), \"Your function does not calculate the Hessian correctly.\"\n",
    "    \n",
    "test_cases = [(\"[3,[0.1,0.2,0.1,0.2,0.7]]\", \"[[0.013, 0.0, 0.013, 0.006, 0.002], [0.0, -0.621, 0.077, 0.125, -0.604], [0.013, 0.077, -0.608, -0.628, -0.073], [0.006, 0.125, -0.628, 0.138, -0.044], [0.002, -0.604, -0.073, -0.044, -0.608]]\"), (\"[2,[0.3, 1.1, 0.4, 1.3]]\", \"[[0.0, 0.0, -0.0, 0.0], [0.0, -0.121, 0.0, 0.859], [0.0, 0.0, 0.0, 0.0], [0.0, 0.859, 0.0, -0.121]]\")]\n",
    "\n",
    "for i, (input_, expected_output) in enumerate(test_cases):\n",
    "    print(f\"Running test case {i} with input '{input_}'...\")\n",
    "\n",
    "    try:\n",
    "        output = run(input_)\n",
    "\n",
    "    except Exception as exc:\n",
    "        print(f\"Runtime Error. {exc}\")\n",
    "\n",
    "    else:\n",
    "        if message := check(output, expected_output):\n",
    "            print(f\"Wrong Answer. Have: '{output}'. Want: '{expected_output}'.\")\n",
    "\n",
    "        else:\n",
    "            print(\"Correct!\")"
   ]
  },
  {
   "cell_type": "code",
   "execution_count": null,
   "id": "e75faf34-30e4-4921-ac11-c299d683392e",
   "metadata": {},
   "outputs": [],
   "source": []
  }
 ],
 "metadata": {
  "kernelspec": {
   "display_name": "Python 3 [Default]",
   "language": "python",
   "name": "python3"
  },
  "language_info": {
   "codemirror_mode": {
    "name": "ipython",
    "version": 3
   },
   "file_extension": ".py",
   "mimetype": "text/x-python",
   "name": "python",
   "nbconvert_exporter": "python",
   "pygments_lexer": "ipython3",
   "version": "3.11.7"
  }
 },
 "nbformat": 4,
 "nbformat_minor": 5
}
