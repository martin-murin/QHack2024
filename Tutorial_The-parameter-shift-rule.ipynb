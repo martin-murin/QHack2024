{
 "cells": [
  {
   "cell_type": "code",
   "execution_count": 3,
   "id": "964350f2",
   "metadata": {
    "tags": []
   },
   "outputs": [],
   "source": [
    "import json\n",
    "import pennylane as qml\n",
    "import pennylane.numpy as np\n",
    "\n",
    "dev = qml.device(\"default.qubit\", wires=3)\n",
    "\n",
    "@qml.qnode(dev)\n",
    "def circuit(weights):\n",
    "    \n",
    "    # Build the circuit here\n",
    "    qml.RX(weights[0,0], wires=0)\n",
    "    qml.RY(weights[0,1], wires=1)\n",
    "    qml.RZ(weights[0,2], wires=2)\n",
    "    qml.CNOT(wires=[0,1])\n",
    "    qml.CNOT(wires=[1,2])\n",
    "    qml.CNOT(wires=[2,0])\n",
    "    qml.RX(weights[1,0], wires=0)\n",
    "    qml.RY(weights[1,1], wires=1)\n",
    "    qml.RZ(weights[1,2], wires=2)\n",
    "    qml.CNOT(wires=[0,1])\n",
    "    qml.CNOT(wires=[1,2])\n",
    "    qml.CNOT(wires=[2,0])\n",
    "    \n",
    "    # Return the Y0xZ2 observable\n",
    "    return qml.expval(qml.PauliY(0)@qml.PauliZ(2))\n",
    "\n",
    "def parameter_shift(weights):\n",
    "    \"\"\"Compute the gradient of the variational circuit given by the\n",
    "    circuit function using the parameter-shift rule.\n",
    "\n",
    "    Args:\n",
    "        weights (array): An array of floating-point numbers with size (2, 3).\n",
    "\n",
    "    Returns:\n",
    "        array: The gradient of the variational circuit. The shape should match\n",
    "        the input weights array.\n",
    "    \"\"\"\n",
    "    \n",
    "    # Return the gradient calculated using the parameter-shift rule\n",
    "    return qml.gradients.param_shift(circuit)(weights)\n"
   ]
  },
  {
   "cell_type": "code",
   "execution_count": 5,
   "id": "ea55f3e7",
   "metadata": {
    "tags": []
   },
   "outputs": [
    {
     "name": "stdout",
     "output_type": "stream",
     "text": [
      "Running test case 0 with input '[[1,0.5,-0.765], [0.1,0,-0.654]]'...\n",
      "Correct!\n",
      "Running test case 1 with input '[[0.94,-0.2,6.03],[-2.6,-0.058,1.2]]'...\n",
      "Correct!\n"
     ]
    }
   ],
   "source": [
    "### Test support\n",
    "# These functions are responsible for testing the solution.\n",
    "def run(test_case_input: str) -> str:\n",
    "    \n",
    "    ins = np.array(json.loads(test_case_input), requires_grad = True)\n",
    "    out = parameter_shift(ins).round(3).tolist()\n",
    "    \n",
    "    return str(out)\n",
    "    \n",
    "def check(solution_output: str, expected_output: str) -> None:\n",
    "    solution_output = json.loads(solution_output)\n",
    "    expected_output = json.loads(expected_output)\n",
    "    \n",
    "    assert np.allclose(solution_output, expected_output, atol=1e-2), \"The gradient calculated isn't quite right.\"\n",
    "    \n",
    "test_cases = [(\"[[1,0.5,-0.765], [0.1,0,-0.654]]\", \"[[0.0, 0.0, 0.0], [0.0, -0.455, 0.0]]\"), (\"[[0.94,-0.2,6.03],[-2.6,-0.058,1.2]]\", \"[[0.03, -0.039, 0.0], [-0.034, 0.166, 0.0]]\")]\n",
    "\n",
    "for i, (input_, expected_output) in enumerate(test_cases):\n",
    "    print(f\"Running test case {i} with input '{input_}'...\")\n",
    "\n",
    "    try:\n",
    "        output = run(input_)\n",
    "\n",
    "    except Exception as exc:\n",
    "        print(f\"Runtime Error. {exc}\")\n",
    "\n",
    "    else:\n",
    "        if message := check(output, expected_output):\n",
    "            print(f\"Wrong Answer. Have: '{output}'. Want: '{expected_output}'.\")\n",
    "\n",
    "        else:\n",
    "            print(\"Correct!\")"
   ]
  },
  {
   "cell_type": "code",
   "execution_count": null,
   "id": "d1e80e2c-4fc5-4a51-8465-6754ab71ac02",
   "metadata": {},
   "outputs": [],
   "source": []
  }
 ],
 "metadata": {
  "kernelspec": {
   "display_name": "Python 3 [Default]",
   "language": "python",
   "name": "python3"
  },
  "language_info": {
   "codemirror_mode": {
    "name": "ipython",
    "version": 3
   },
   "file_extension": ".py",
   "mimetype": "text/x-python",
   "name": "python",
   "nbconvert_exporter": "python",
   "pygments_lexer": "ipython3",
   "version": "3.11.7"
  }
 },
 "nbformat": 4,
 "nbformat_minor": 5
}
